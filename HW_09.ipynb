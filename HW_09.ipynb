{
 "cells": [
  {
   "cell_type": "markdown",
   "metadata": {},
   "source": [
    "# Домашнее задание"
   ]
  },
  {
   "cell_type": "markdown",
   "metadata": {},
   "source": [
    "### Задание 1.\n",
    "Напишите функцию, которая принимает на вход строку и проверяет является ли она валидным транспортным номером. Если да, то функция должна возвращать отдельно номер и регион."
   ]
  },
  {
   "cell_type": "code",
   "execution_count": 14,
   "metadata": {},
   "outputs": [],
   "source": [
    "import re\n",
    "\n",
    "def check_autonumber(autonumber):\n",
    "    #Российские номера содержат русские буквы:\n",
    "    #А, В, Е, К, М, Н, О, Р, С, Т, У и Х\n",
    "    mask_autonumber = r'([аАвВеЕкКмМнНоОрРсСтТуУхХ]\\d{3}[аАвВеЕкКмМнНоОрРсСтТуУхХ]{2})(\\d{2,3})'\n",
    "    #mask_autonumber = r'([а-яА-Я]\\d{3}[а-яА-я]{2})(\\d{2,3})'\n",
    "    return re.findall(mask_autonumber, autonumber)"
   ]
  },
  {
   "cell_type": "code",
   "execution_count": 15,
   "metadata": {},
   "outputs": [
    {
     "name": "stdout",
     "output_type": "stream",
     "text": [
      "[('а999аа', '159')]\n"
     ]
    }
   ],
   "source": [
    "temp_autonumber = 'а999аа159'\n",
    "print(check_autonumber(temp_autonumber))"
   ]
  },
  {
   "cell_type": "markdown",
   "metadata": {},
   "source": [
    "### Задание 2.\n",
    "Постарайтесь написать (в крайнем случае найти) самый полный шаблон для проверки e-mail адресов через регулярное выражение, которая проверяет e-mail адрес на валидность. Можно руководствоваться следующими минимальными требованиями:\n",
    "- адрес должен содержать специальный символ “@”, который отделяет имя пользователя почтовой системы от доменного имени;\n",
    "- адрес не должен содержать следующие символы: “пробел”, “,”, “:”, “;”, “!”, “#”, “%”, “*”, “(”, “)”, “=”, “+”, “{”, “}”, \" \" \", \" ’ \", \" / \", \" \\ \" и “|”;\n",
    "- адрес должен состоять только из латинских символов;\n",
    "- после символа “@” должна быть как минимум одна “.”;\n",
    "- после последней точки должно быть не менее 2-х и не более 4-х символов, причем наличие цифр не допускается;\n",
    "- между последней точкой и символом “@” должно быть не менее 2-х символов\n",
    "- слева от “@” должно быть не менее четырех символов"
   ]
  },
  {
   "cell_type": "code",
   "execution_count": 53,
   "metadata": {},
   "outputs": [],
   "source": [
    "import re\n",
    "\n",
    "def check_email(email):\n",
    "    #mask_email = r'^[a-zA-Z0-9_.-]+@[a-zA-Z0-9-]+\\.[a-zA-Z0-9-.]+$'\n",
    "    mask_email = r'^[a-zA-Z0-9_.-]{4,}@[a-zA-Z0-9-]+\\.[a-zA-Z0-9-.]+\\.[a-zA-Z]{2,4}$|^[a-zA-Z0-9_.-]{4,}@[a-zA-Z0-9-]+\\.[a-zA-Z]{2,4}$'\n",
    "    return re.findall(mask_email, email)"
   ]
  },
  {
   "cell_type": "code",
   "execution_count": 56,
   "metadata": {},
   "outputs": [
    {
     "name": "stdout",
     "output_type": "stream",
     "text": [
      "['ppppp@mail.ru']\n"
     ]
    }
   ],
   "source": [
    "temp_email = 'ppppp@mail.ru'\n",
    "print(check_email(temp_email))"
   ]
  },
  {
   "cell_type": "markdown",
   "metadata": {},
   "source": [
    "### Задание 3.\n",
    "Напишите функцию, которая будет удалять все последовательные повторы слов из заданной строки при помощи регулярных выражений."
   ]
  },
  {
   "cell_type": "code",
   "execution_count": 61,
   "metadata": {},
   "outputs": [],
   "source": [
    "import re\n",
    "\n",
    "def delete_repeats(start_text):\n",
    "    new_text = re.sub(r'\\b([^\\W\\d_]+)(\\s+\\1)+\\b', r'\\1', re.sub(r'\\W+', ' ', start_text).strip(), flags=re.I) \n",
    "    return new_text"
   ]
  },
  {
   "cell_type": "code",
   "execution_count": 63,
   "metadata": {},
   "outputs": [
    {
     "name": "stdout",
     "output_type": "stream",
     "text": [
      "Бег по кругу это пустая трата времени\n"
     ]
    }
   ],
   "source": [
    "temp_text = ' Бег бег бег по  кругу - это    это пустая трата трата времени'\n",
    "print(delete_repeats(temp_text))"
   ]
  },
  {
   "cell_type": "markdown",
   "metadata": {},
   "source": [
    "### Задание 4.\n",
    "Напишите функцию, которая будет проверять номер сотового телефона на валидность, если он валиден, то переводить его в формат:\n",
    "\n",
    "+7(xxx)-xxx-xx-xx\n",
    "\n",
    "Постарайтесь предусмотреть как можно больше адекватных форматов изначального ввода номера. Примеры валидных форматов:\n",
    "\n",
    "- +7 955 555-55-55;\n",
    "- 9555555555;\n",
    "- 8(955)555-55-55;\n",
    "- +7 955 555 55 55;\n",
    "- 7(955) 555-55-55;\n",
    "- +7 955+555+55+55."
   ]
  },
  {
   "cell_type": "code",
   "execution_count": 134,
   "metadata": {},
   "outputs": [],
   "source": [
    "import re\n",
    "\n",
    "def format_phone(phone):\n",
    "    phone = ''.join(re.split('\\D+', phone))\n",
    "    if (len(phone) == 10 and phone[0]=='9') or (len(phone) == 11 and phone[1]=='9' and (phone[0]=='7' or phone[0]=='8')):\n",
    "        phone = phone[-10:]\n",
    "        mask_chek = r'(\\d{3})(\\d{3})(\\d{2})(\\d{2})'\n",
    "        mask_phone = r'+7(\\1)-\\2-\\3-\\4'\n",
    "        temp = re.sub(mask_chek, mask_phone, phone)\n",
    "        return temp\n",
    "    else:\n",
    "        return 'Номер введен не корректно'"
   ]
  },
  {
   "cell_type": "code",
   "execution_count": 135,
   "metadata": {},
   "outputs": [
    {
     "name": "stdout",
     "output_type": "stream",
     "text": [
      "+7(955)-555-55-55\n"
     ]
    }
   ],
   "source": [
    "temp_phone = '8(955)555-55-55'\n",
    "print(format_phone(temp_phone))"
   ]
  },
  {
   "cell_type": "code",
   "execution_count": null,
   "metadata": {},
   "outputs": [],
   "source": []
  }
 ],
 "metadata": {
  "kernelspec": {
   "display_name": "Python 3",
   "language": "python",
   "name": "python3"
  },
  "language_info": {
   "codemirror_mode": {
    "name": "ipython",
    "version": 3
   },
   "file_extension": ".py",
   "mimetype": "text/x-python",
   "name": "python",
   "nbconvert_exporter": "python",
   "pygments_lexer": "ipython3",
   "version": "3.7.6"
  }
 },
 "nbformat": 4,
 "nbformat_minor": 2
}
